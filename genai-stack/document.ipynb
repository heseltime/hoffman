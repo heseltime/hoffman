{
 "cells": [
  {
   "cell_type": "code",
   "execution_count": null,
   "id": "02ba9f2b",
   "metadata": {},
   "outputs": [
    {
     "name": "stderr",
     "output_type": "stream",
     "text": [
      "/Users/jackheseltine/Public/hoffman/.venv/lib/python3.9/site-packages/urllib3/__init__.py:35: NotOpenSSLWarning: urllib3 v2 only supports OpenSSL 1.1.1+, currently the 'ssl' module is compiled with 'LibreSSL 2.8.3'. See: https://github.com/urllib3/urllib3/issues/3020\n",
      "  warnings.warn(\n"
     ]
    },
    {
     "ename": "FileNotFoundError",
     "evalue": "[Errno 2] No such file or directory: './input_pdfs'",
     "output_type": "error",
     "traceback": [
      "\u001b[0;31m---------------------------------------------------------------------------\u001b[0m",
      "\u001b[0;31mFileNotFoundError\u001b[0m                         Traceback (most recent call last)",
      "Cell \u001b[0;32mIn[1], line 75\u001b[0m\n\u001b[1;32m     72\u001b[0m OUTPUT_DIR \u001b[38;5;241m=\u001b[39m \u001b[38;5;124m\"\u001b[39m\u001b[38;5;124m./accessible_pdfs\u001b[39m\u001b[38;5;124m\"\u001b[39m\n\u001b[1;32m     74\u001b[0m \u001b[38;5;66;03m# 🏃 Run batch processing\u001b[39;00m\n\u001b[0;32m---> 75\u001b[0m \u001b[43mprocess_pdf_directory\u001b[49m\u001b[43m(\u001b[49m\u001b[43mINPUT_DIR\u001b[49m\u001b[43m,\u001b[49m\u001b[43m \u001b[49m\u001b[43mOUTPUT_DIR\u001b[49m\u001b[43m)\u001b[49m\n",
      "Cell \u001b[0;32mIn[1], line 61\u001b[0m, in \u001b[0;36mprocess_pdf_directory\u001b[0;34m(input_dir, output_dir, retries)\u001b[0m\n\u001b[1;32m     59\u001b[0m \u001b[38;5;28;01mdef\u001b[39;00m \u001b[38;5;21mprocess_pdf_directory\u001b[39m(input_dir, output_dir, retries\u001b[38;5;241m=\u001b[39m\u001b[38;5;241m2\u001b[39m):\n\u001b[1;32m     60\u001b[0m     os\u001b[38;5;241m.\u001b[39mmakedirs(output_dir, exist_ok\u001b[38;5;241m=\u001b[39m\u001b[38;5;28;01mTrue\u001b[39;00m)\n\u001b[0;32m---> 61\u001b[0m     \u001b[38;5;28;01mfor\u001b[39;00m filename \u001b[38;5;129;01min\u001b[39;00m \u001b[43mos\u001b[49m\u001b[38;5;241;43m.\u001b[39;49m\u001b[43mlistdir\u001b[49m\u001b[43m(\u001b[49m\u001b[43minput_dir\u001b[49m\u001b[43m)\u001b[49m:\n\u001b[1;32m     62\u001b[0m         \u001b[38;5;28;01mif\u001b[39;00m filename\u001b[38;5;241m.\u001b[39mlower()\u001b[38;5;241m.\u001b[39mendswith(\u001b[38;5;124m\"\u001b[39m\u001b[38;5;124m.pdf\u001b[39m\u001b[38;5;124m\"\u001b[39m):\n\u001b[1;32m     63\u001b[0m             input_path \u001b[38;5;241m=\u001b[39m os\u001b[38;5;241m.\u001b[39mpath\u001b[38;5;241m.\u001b[39mjoin(input_dir, filename)\n",
      "\u001b[0;31mFileNotFoundError\u001b[0m: [Errno 2] No such file or directory: './input_pdfs'"
     ]
    }
   ],
   "source": [
    "# pdf_batch_accessibility.ipynb\n",
    "\n",
    "import os\n",
    "import uuid\n",
    "import logging\n",
    "from dotenv import load_dotenv\n",
    "\n",
    "from utils import (\n",
    "    extract_pdf_content_streams,\n",
    "    build_pdf_prompt,\n",
    "    call_llm_generate_streams,\n",
    "    build_full_pdf_from_streams\n",
    ")\n",
    "\n",
    "# Setup logging\n",
    "logging.basicConfig(level=logging.INFO)\n",
    "logger = logging.getLogger(__name__)\n",
    "\n",
    "# Load environment variables (OLLAMA_BASE_URL and LLM)\n",
    "load_dotenv(\".env\")\n",
    "OLLAMA_BASE_URL = os.getenv(\"OLLAMA_BASE_URL\")\n",
    "LLM_NAME = os.getenv(\"LLM\")\n",
    "\n",
    "# Reusable function for PDF accessibility processing\n",
    "def process_pdf_for_accessibility(input_pdf_path, metadata=\"{}\", output_dir=\"/tmp\", retries=2):\n",
    "    logger.info(\"📄 Processing file: %s\", input_pdf_path)\n",
    "\n",
    "    logger.info(\"🔍 Extracting PDF content streams...\")\n",
    "    content_streams = extract_pdf_content_streams(input_pdf_path)\n",
    "    logger.info(\"📄 Extracted %d content stream(s)\", len(content_streams))\n",
    "\n",
    "    logger.info(\"🧾 Building LLM prompt\")\n",
    "    prompt_lines = [\n",
    "        \"You are a PDF cleaner. Your task is to rewrite PDF content streams for accessibility.\",\n",
    "        \"Each input is a low-level PDF page content stream (BT/ET block).\",\n",
    "        \"For each stream, return an improved version using Helvetica font, 12pt size, and correctly positioned text.\",\n",
    "        \"Ensure the syntax remains valid PDF content streams with BT/ET blocks.\",\n",
    "        \"Respond only with updated PDF streams — no explanation or formatting.\",\n",
    "        \"Each stream must be returned between `<< /Length L >>` and `endstream`, where L is the byte length of the stream body.\",\n",
    "        \"Do not wrap the response in code fences or markdown.\"\n",
    "    ]\n",
    "\n",
    "    prompt = build_pdf_prompt(prompt_lines, content_streams)\n",
    "    logger.debug(\"📨 Prompt preview:\\n%s\", prompt[:500])\n",
    "\n",
    "    logger.info(\"🔁 Calling LLM with up to %d retries\", retries)\n",
    "    improved_streams = call_llm_generate_streams(\n",
    "        prompt, model=LLM_NAME, base_url=OLLAMA_BASE_URL, retries=retries\n",
    "    )\n",
    "    logger.info(\"✅ LLM returned %d improved stream(s)\", len(improved_streams))\n",
    "\n",
    "    output_path = os.path.join(output_dir, f\"accessible_{os.path.basename(input_pdf_path)}\")\n",
    "    logger.info(\"🛠️  Building PDF to: %s\", output_path)\n",
    "    build_full_pdf_from_streams(improved_streams, output_path)\n",
    "\n",
    "    return output_path\n",
    "\n",
    "# Batch processing loop\n",
    "def process_pdf_directory(input_dir, output_dir, retries=2):\n",
    "    os.makedirs(output_dir, exist_ok=True)\n",
    "    for filename in os.listdir(input_dir):\n",
    "        if filename.lower().endswith(\".pdf\"):\n",
    "            input_path = os.path.join(input_dir, filename)\n",
    "            try:\n",
    "                output_path = process_pdf_for_accessibility(input_path, output_dir=output_dir, retries=retries)\n",
    "                print(f\"✅ Processed: {filename} → {output_path}\")\n",
    "            except Exception as e:\n",
    "                print(f\"❌ Failed: {filename} — {e}\")\n",
    "\n",
    "# 🔧 Define your input/output directories here\n",
    "INPUT_DIR = \"./ipynb-input\"\n",
    "OUTPUT_DIR = \"./ipynb-output\"\n",
    "\n",
    "# 🏃 Run batch processing\n",
    "process_pdf_directory(INPUT_DIR, OUTPUT_DIR)\n"
   ]
  },
  {
   "cell_type": "code",
   "execution_count": null,
   "id": "3a25cacd",
   "metadata": {},
   "outputs": [],
   "source": []
  }
 ],
 "metadata": {
  "kernelspec": {
   "display_name": ".venv",
   "language": "python",
   "name": "python3"
  },
  "language_info": {
   "codemirror_mode": {
    "name": "ipython",
    "version": 3
   },
   "file_extension": ".py",
   "mimetype": "text/x-python",
   "name": "python",
   "nbconvert_exporter": "python",
   "pygments_lexer": "ipython3",
   "version": "3.9.6"
  }
 },
 "nbformat": 4,
 "nbformat_minor": 5
}
