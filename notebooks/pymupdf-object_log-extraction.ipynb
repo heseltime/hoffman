{
 "cells": [
  {
   "cell_type": "markdown",
   "metadata": {},
   "source": [
    "## To run this notebook (with venv)\n",
    "\n",
    "Use vscode utilities - see .venv folder and in-notebook directives"
   ]
  },
  {
   "cell_type": "code",
   "execution_count": 4,
   "metadata": {},
   "outputs": [
    {
     "name": "stdout",
     "output_type": "stream",
     "text": [
      "Collecting pymupdf\n",
      "  Using cached pymupdf-1.25.5-cp39-abi3-macosx_11_0_arm64.whl.metadata (3.4 kB)\n",
      "Using cached pymupdf-1.25.5-cp39-abi3-macosx_11_0_arm64.whl (18.6 MB)\n",
      "Installing collected packages: pymupdf\n",
      "Successfully installed pymupdf-1.25.5\n"
     ]
    }
   ],
   "source": [
    "!pip install pymupdf"
   ]
  },
  {
   "cell_type": "code",
   "execution_count": 7,
   "metadata": {},
   "outputs": [
    {
     "name": "stdout",
     "output_type": "stream",
     "text": [
      "[✅] PDF object structure logged to pdf_object_log.txt\n"
     ]
    }
   ],
   "source": [
    "import fitz  # PyMuPDF\n",
    "import os\n",
    "\n",
    "def extract_pdf_object_code(pdf_path: str, log_path: str = \"pdf_object_log.txt\") -> str:\n",
    "    \"\"\"\n",
    "    Extracts a readable representation of the PDF internal structure and logs it.\n",
    "\n",
    "    Returns:\n",
    "        str: Logged object structure, suitable for LLM input.\n",
    "    \"\"\"\n",
    "    doc = fitz.open(pdf_path)\n",
    "    log_lines = []\n",
    "\n",
    "    #log_lines.append(f\"% PDF Version: {doc.pdf_version}\\n\")\n",
    "    log_lines.append(f\"Number of pages: {doc.page_count}\\n\")\n",
    "    log_lines.append(\"=\" * 80)\n",
    "\n",
    "    for i, page in enumerate(doc, start=1):\n",
    "        log_lines.append(f\"\\n--- Page {i} ---\")\n",
    "        # Textual stream representation of page content\n",
    "        page_src = page.get_text(\"rawdict\")  # Get dictionary-style structure\n",
    "        log_lines.append(str(page_src))\n",
    "\n",
    "    # Optional: write to file\n",
    "    with open(log_path, \"w\", encoding=\"utf-8\") as f:\n",
    "        f.write(\"\\n\".join(log_lines))\n",
    "\n",
    "    print(f\"[✅] PDF object structure logged to {log_path}\")\n",
    "    return \"\\n\".join(log_lines)\n",
    "\n",
    "# Example usage\n",
    "if __name__ == \"__main__\":\n",
    "    input_pdf = \"../samples/prototype-for-open-innovation/Heading-Quote-and-List-not-perfect.pdf\"  # Replace with uploaded temp path\n",
    "    log = extract_pdf_object_code(input_pdf)\n"
   ]
  },
  {
   "cell_type": "markdown",
   "metadata": {},
   "source": [
    "Try a test outsourcing utility code like this to `genai-src` next"
   ]
  },
  {
   "cell_type": "code",
   "execution_count": null,
   "metadata": {},
   "outputs": [],
   "source": []
  }
 ],
 "metadata": {
  "kernelspec": {
   "display_name": "Python 3",
   "language": "python",
   "name": "python3"
  },
  "language_info": {
   "codemirror_mode": {
    "name": "ipython",
    "version": 3
   },
   "file_extension": ".py",
   "mimetype": "text/x-python",
   "name": "python",
   "nbconvert_exporter": "python",
   "pygments_lexer": "ipython3",
   "version": "3.9.21"
  }
 },
 "nbformat": 4,
 "nbformat_minor": 2
}
