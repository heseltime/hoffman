{
 "cells": [
  {
   "cell_type": "markdown",
   "metadata": {},
   "source": [
    "## To run this notebook (with venv)\n",
    "\n",
    "Use vscode utilities - see .venv folder and in-notebook directives"
   ]
  },
  {
   "cell_type": "code",
   "execution_count": 4,
   "metadata": {},
   "outputs": [
    {
     "name": "stdout",
     "output_type": "stream",
     "text": [
      "Collecting pymupdf\n",
      "  Using cached pymupdf-1.25.5-cp39-abi3-macosx_11_0_arm64.whl.metadata (3.4 kB)\n",
      "Using cached pymupdf-1.25.5-cp39-abi3-macosx_11_0_arm64.whl (18.6 MB)\n",
      "Installing collected packages: pymupdf\n",
      "Successfully installed pymupdf-1.25.5\n"
     ]
    }
   ],
   "source": [
    "!pip install pymupdf"
   ]
  },
  {
   "cell_type": "code",
   "execution_count": 6,
   "metadata": {},
   "outputs": [
    {
     "ename": "AttributeError",
     "evalue": "'Document' object has no attribute 'pdf_version'",
     "output_type": "error",
     "traceback": [
      "\u001b[0;31m---------------------------------------------------------------------------\u001b[0m",
      "\u001b[0;31mAttributeError\u001b[0m                            Traceback (most recent call last)",
      "Cell \u001b[0;32mIn[6], line 34\u001b[0m\n\u001b[1;32m     32\u001b[0m \u001b[38;5;28;01mif\u001b[39;00m \u001b[38;5;18m__name__\u001b[39m \u001b[38;5;241m==\u001b[39m \u001b[38;5;124m\"\u001b[39m\u001b[38;5;124m__main__\u001b[39m\u001b[38;5;124m\"\u001b[39m:\n\u001b[1;32m     33\u001b[0m     input_pdf \u001b[38;5;241m=\u001b[39m \u001b[38;5;124m\"\u001b[39m\u001b[38;5;124m../samples/prototype-for-open-innovation/Heading-Quote-and-List-not-perfect.pdf\u001b[39m\u001b[38;5;124m\"\u001b[39m  \u001b[38;5;66;03m# Replace with uploaded temp path\u001b[39;00m\n\u001b[0;32m---> 34\u001b[0m     log \u001b[38;5;241m=\u001b[39m \u001b[43mextract_pdf_object_code\u001b[49m\u001b[43m(\u001b[49m\u001b[43minput_pdf\u001b[49m\u001b[43m)\u001b[49m\n",
      "Cell \u001b[0;32mIn[6], line 14\u001b[0m, in \u001b[0;36mextract_pdf_object_code\u001b[0;34m(pdf_path, log_path)\u001b[0m\n\u001b[1;32m     11\u001b[0m doc \u001b[38;5;241m=\u001b[39m fitz\u001b[38;5;241m.\u001b[39mopen(pdf_path)\n\u001b[1;32m     12\u001b[0m log_lines \u001b[38;5;241m=\u001b[39m []\n\u001b[0;32m---> 14\u001b[0m log_lines\u001b[38;5;241m.\u001b[39mappend(\u001b[38;5;124mf\u001b[39m\u001b[38;5;124m\"\u001b[39m\u001b[38;5;124m% PDF Version: \u001b[39m\u001b[38;5;132;01m{\u001b[39;00mdoc\u001b[38;5;241m.\u001b[39mpdf_version\u001b[38;5;132;01m}\u001b[39;00m\u001b[38;5;130;01m\\n\u001b[39;00m\u001b[38;5;124m\"\u001b[39m)\n\u001b[1;32m     15\u001b[0m log_lines\u001b[38;5;241m.\u001b[39mappend(\u001b[38;5;124mf\u001b[39m\u001b[38;5;124m\"\u001b[39m\u001b[38;5;124mNumber of pages: \u001b[39m\u001b[38;5;132;01m{\u001b[39;00mdoc\u001b[38;5;241m.\u001b[39mpage_count\u001b[38;5;132;01m}\u001b[39;00m\u001b[38;5;130;01m\\n\u001b[39;00m\u001b[38;5;124m\"\u001b[39m)\n\u001b[1;32m     16\u001b[0m log_lines\u001b[38;5;241m.\u001b[39mappend(\u001b[38;5;124m\"\u001b[39m\u001b[38;5;124m=\u001b[39m\u001b[38;5;124m\"\u001b[39m \u001b[38;5;241m*\u001b[39m \u001b[38;5;241m80\u001b[39m)\n",
      "\u001b[0;31mAttributeError\u001b[0m: 'Document' object has no attribute 'pdf_version'"
     ]
    }
   ],
   "source": [
    "import fitz  # PyMuPDF\n",
    "import os\n",
    "\n",
    "def extract_pdf_object_code(pdf_path: str, log_path: str = \"pdf_object_log.txt\") -> str:\n",
    "    \"\"\"\n",
    "    Extracts a readable representation of the PDF internal structure and logs it.\n",
    "\n",
    "    Returns:\n",
    "        str: Logged object structure, suitable for LLM input.\n",
    "    \"\"\"\n",
    "    doc = fitz.open(pdf_path)\n",
    "    log_lines = []\n",
    "\n",
    "    #log_lines.append(f\"% PDF Version: {doc.pdf_version}\\n\")\n",
    "    log_lines.append(f\"Number of pages: {doc.page_count}\\n\")\n",
    "    log_lines.append(\"=\" * 80)\n",
    "\n",
    "    for i, page in enumerate(doc, start=1):\n",
    "        log_lines.append(f\"\\n--- Page {i} ---\")\n",
    "        # Textual stream representation of page content\n",
    "        page_src = page.get_text(\"rawdict\")  # Get dictionary-style structure\n",
    "        log_lines.append(str(page_src))\n",
    "\n",
    "    # Optional: write to file\n",
    "    with open(log_path, \"w\", encoding=\"utf-8\") as f:\n",
    "        f.write(\"\\n\".join(log_lines))\n",
    "\n",
    "    print(f\"[✅] PDF object structure logged to {log_path}\")\n",
    "    return \"\\n\".join(log_lines)\n",
    "\n",
    "# Example usage\n",
    "if __name__ == \"__main__\":\n",
    "    input_pdf = \"../samples/prototype-for-open-innovation/Heading-Quote-and-List-not-perfect.pdf\"  # Replace with uploaded temp path\n",
    "    log = extract_pdf_object_code(input_pdf)\n"
   ]
  },
  {
   "cell_type": "code",
   "execution_count": null,
   "metadata": {},
   "outputs": [],
   "source": []
  }
 ],
 "metadata": {
  "kernelspec": {
   "display_name": "Python 3",
   "language": "python",
   "name": "python3"
  },
  "language_info": {
   "codemirror_mode": {
    "name": "ipython",
    "version": 3
   },
   "file_extension": ".py",
   "mimetype": "text/x-python",
   "name": "python",
   "nbconvert_exporter": "python",
   "pygments_lexer": "ipython3",
   "version": "3.9.21"
  }
 },
 "nbformat": 4,
 "nbformat_minor": 2
}
