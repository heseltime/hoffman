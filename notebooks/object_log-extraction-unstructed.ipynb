{
 "cells": [
  {
   "cell_type": "code",
   "execution_count": null,
   "metadata": {},
   "outputs": [],
   "source": []
  },
  {
   "cell_type": "code",
   "execution_count": 5,
   "metadata": {},
   "outputs": [
    {
     "name": "stderr",
     "output_type": "stream",
     "text": [
      "[nltk_data] Downloading package punkt_tab to\n",
      "[nltk_data]     /Users/jackheseltine/nltk_data...\n",
      "[nltk_data]   Package punkt_tab is already up-to-date!\n",
      "[nltk_data] Downloading package averaged_perceptron_tagger_eng to\n",
      "[nltk_data]     /Users/jackheseltine/nltk_data...\n"
     ]
    },
    {
     "name": "stdout",
     "output_type": "stream",
     "text": [
      "From: Jack Heseltine jack.heseltine@dioezese-linz.at\n",
      "Subject: WG: Verkaufs- und Sponsoringpartneranfrage KHJ/KHG Linz (KHG Frühlingsfest)\n",
      "Date: 6. May 2025 at 12:29\n",
      "To: jack.heseltine jack.heseltine@gmail.com\n",
      "Von: Jack Heseltine <jack.heseltine@dioezese-linz.at> Gesendet: Freitag, 21. Februar 2025 11:19 An: info@urban-drinks.at <info@urban-drinks.at> Betreff: Verkaufs- und Sponsoringpartneranfrage KHJ/KHG Linz (KHG Frühlingsfest)\n",
      "Sehr geehrtes Ofﬁce Team von Urban Drinks,\n",
      "Ich darf mich als Vorstandsvorsitzender der Katholischen Hochschuljugend (KHJ) Oberösterreich melden, in einer Herzensangelegenheit, dem traditionellen Frühlingsfest in der Katholischen Hochschulgemeinde (KHG) Linz, am Unicampus der Johannes Kepler Universität. Wir stehen nun wieder mitten in der Planung und suchen Partner wie auch Sponsoren und visieren aktuell den Termin 10.4. an, mit einer Personenanzahl von 300+ Uniangehörigen und hauptsächlich StudentInnen. Zusagen anderer Partner/Sponsoren bisher: Raiffeisenlandesbank OÖ, Honeder Naturbackstube.\n",
      "Es würde mich freuen mich hierzu mit Ihnen weiterauszutauschen! Evtl. würden sich ein gutes Angebot, Naturalien oder ein Finanzsponsoring machen lassen, so war es schon in der Vergangenheit mit Partnern üblich, dazu im Gegenzug natürlich Logo auf den Plakaten zur Veranstaltung sowie unserer Social Media Präsenz im KHG sowie der KHJ, je nach Ihrem Bedarf. Gerne bin ich hierzu telefonisch erreichbar: 06649653008\n",
      "Konkreten Bedarf hätten wir v.a. an Party und Shots Getränken wie Berliner Luft und Jägermeister.\n",
      "Danke und mit freundlichen Grüßen!\n",
      "Jack Heseltine +43 664 9653008 Vorstandsvorsitzender der Katholischen Hochschuljugend Oberösterreich | LinkedIn\n"
     ]
    },
    {
     "name": "stderr",
     "output_type": "stream",
     "text": [
      "[nltk_data]   Unzipping taggers/averaged_perceptron_tagger_eng.zip.\n"
     ]
    }
   ],
   "source": [
    "from langchain.document_loaders import UnstructuredPDFLoader\n",
    "\n",
    "import nltk\n",
    "nltk.download('punkt_tab')\n",
    "nltk.download('averaged_perceptron_tagger_eng')\n",
    "\n",
    "loader = UnstructuredPDFLoader(\"test.pdf\", mode=\"elements\")\n",
    "docs = loader.load()\n",
    "\n",
    "for doc in docs:\n",
    "    print(doc.page_content)\n"
   ]
  },
  {
   "cell_type": "code",
   "execution_count": null,
   "metadata": {},
   "outputs": [],
   "source": []
  }
 ],
 "metadata": {
  "kernelspec": {
   "display_name": ".venv",
   "language": "python",
   "name": "python3"
  },
  "language_info": {
   "codemirror_mode": {
    "name": "ipython",
    "version": 3
   },
   "file_extension": ".py",
   "mimetype": "text/x-python",
   "name": "python",
   "nbconvert_exporter": "python",
   "pygments_lexer": "ipython3",
   "version": "3.9.6"
  }
 },
 "nbformat": 4,
 "nbformat_minor": 2
}
